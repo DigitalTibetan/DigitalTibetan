{
  "nbformat": 4,
  "nbformat_minor": 0,
  "metadata": {
    "colab": {
      "name": "computational_dharma.ipynb",
      "provenance": [],
      "collapsed_sections": [],
      "authorship_tag": "ABX9TyNxyN15z9twpuy2Kra4tjgN",
      "include_colab_link": true
    },
    "kernelspec": {
      "name": "python3",
      "display_name": "Python 3"
    },
    "language_info": {
      "name": "python"
    }
  },
  "cells": [
    {
      "cell_type": "markdown",
      "metadata": {
        "id": "view-in-github",
        "colab_type": "text"
      },
      "source": [
        "<a href=\"https://colab.research.google.com/github/DigitalTibetan/DigitalTibetan/blob/main/docs/computational_dharma.ipynb\" target=\"_parent\"><img src=\"https://colab.research.google.com/assets/colab-badge.svg\" alt=\"Open In Colab\"/></a>"
      ]
    },
    {
      "cell_type": "markdown",
      "source": [
        "# Computational dharma, really?\n",
        "\n",
        "## A digital toolset to work with multiple language\n",
        "\n",
        "This article just wants to give a quick overview of what's possible with today's natural language processing tools. All examples will focus on the Python programming language as an additional tool for working with Tibetan texts.\n",
        "\n",
        "There are two ways to read this notebook:\n",
        "\n",
        "- either treat it as a normal static website, and get an overview what current tools can do,\n",
        "- click the button above `Open in Colab`. This will open this notebook in a Google colab instance (free), and will allow you to modify and execute the examples without installing any software locally. To execute a command in the notebook, press `<Shift><Enter>` and the current cell will be executed.\n",
        "\n",
        "This will be just some first glimpse, more details and explanations will be added in later articles.\n",
        "\n",
        "Let's start with some conversions between Wylie and Unicode Tibetan, using Esukhia's [pyetws](https://github.com/OpenPecha-dev/pyewts) that is a port of earlier work by [Roger Espel](https://github.com/rogerespel/ewts-js).\n",
        "\n",
        "## Conversion between Wylie and Unicode Tibetan"
      ],
      "metadata": {
        "id": "Z_7pd7PGvczz"
      }
    },
    {
      "cell_type": "code",
      "source": [
        "%%capture\n",
        "!pip install pyewts"
      ],
      "metadata": {
        "id": "hS5u5eE1vfBG"
      },
      "execution_count": 2,
      "outputs": []
    },
    {
      "cell_type": "code",
      "source": [
        "import pyewts"
      ],
      "metadata": {
        "id": "KbPSnNUJvjdg"
      },
      "execution_count": 3,
      "outputs": []
    },
    {
      "cell_type": "code",
      "source": [
        "converter=pyewts.pyewts()\n",
        "print(converter.toUnicode(\"oM AHhUM:\"))\n",
        "print(converter.toWylie(\"སེམས་ཉིད་\"))"
      ],
      "metadata": {
        "colab": {
          "base_uri": "https://localhost:8080/"
        },
        "id": "brhyg1kyv2rS",
        "outputId": "b551815e-401a-412b-e484-e1bf20e9e35e"
      },
      "execution_count": 4,
      "outputs": [
        {
          "output_type": "stream",
          "name": "stdout",
          "text": [
            "ཨོཾ་ཨཱཿཧཱུཾ༔\n",
            "sems nyid \n"
          ]
        }
      ]
    },
    {
      "cell_type": "markdown",
      "source": [
        "## Let's look at Sanskrit transliteration systems"
      ],
      "metadata": {
        "id": "FKtys2HA639d"
      }
    },
    {
      "cell_type": "code",
      "source": [
        "%%capture\n",
        "!pip install indic_transliteration"
      ],
      "metadata": {
        "id": "S6A0twKf6vC4"
      },
      "execution_count": 5,
      "outputs": []
    },
    {
      "cell_type": "code",
      "source": [
        "from indic_transliteration import sanscript\n",
        "from indic_transliteration.sanscript import SchemeMap, SCHEMES, transliterate"
      ],
      "metadata": {
        "id": "0sTxDJyn8dvM"
      },
      "execution_count": 6,
      "outputs": []
    },
    {
      "cell_type": "code",
      "source": [
        "transliterate(\"Kālacakra\", sanscript.IAST, sanscript.DEVANAGARI)"
      ],
      "metadata": {
        "colab": {
          "base_uri": "https://localhost:8080/",
          "height": 36
        },
        "id": "Q2UhLZBG8gP2",
        "outputId": "990044d7-b85b-44b6-c3e7-0cd951e336f6"
      },
      "execution_count": 7,
      "outputs": [
        {
          "output_type": "execute_result",
          "data": {
            "text/plain": [
              "'कालचक्र'"
            ],
            "application/vnd.google.colaboratory.intrinsic+json": {
              "type": "string"
            }
          },
          "metadata": {},
          "execution_count": 7
        }
      ]
    },
    {
      "cell_type": "markdown",
      "source": [
        "Let's say we found an old glossary, and we want to Tibetan and Devanagari to it's existing transliterations:"
      ],
      "metadata": {
        "id": "wz7nVSQPGlW3"
      }
    },
    {
      "cell_type": "code",
      "source": [
        "import pandas as pd"
      ],
      "metadata": {
        "id": "j0kXu88zIK2R"
      },
      "execution_count": 22,
      "outputs": []
    },
    {
      "cell_type": "code",
      "source": [
        "sample_glossary=\"\"\"Abhiṣeka - dbang bskur\n",
        "Akaniṣṭha - og min\n",
        "Avalokiteśvara - spyan ras gzigs\n",
        "Bhagavān - bcom ldan 'das\n",
        "Ḍākinī - mkha' 'gro\n",
        "Jñānasattva - ye shes sems dpa'\n",
        "Mahāmudrā - phyag rgya chen po\n",
        "Oḍḍiyāna - o rgyan\n",
        "Samantabhadrī - kun tu bzang mo\n",
        "Tathāgata - de bzhin gshegs pa\n",
        "Yoginī - rnal 'byor ma\"\"\""
      ],
      "metadata": {
        "id": "bhCLsYop806u"
      },
      "execution_count": 23,
      "outputs": []
    },
    {
      "cell_type": "markdown",
      "source": [
        "First step is to parse this piece of text into Pandas dataframe. Such a dataframe is similar to a spreadsheet table and can be easily transformed.\n",
        "The result be saved as CSV or many different other formats."
      ],
      "metadata": {
        "id": "QWasr-LYJNGI"
      }
    },
    {
      "cell_type": "code",
      "source": [
        "iast = [x.split('-')[0].strip() for x in sample_glossary.split(\"\\n\")]\n",
        "wylie = [x.split('-')[1].strip()+' ' for x in sample_glossary.split(\"\\n\")]"
      ],
      "metadata": {
        "id": "8FTXc0KNGxA_"
      },
      "execution_count": 24,
      "outputs": []
    },
    {
      "cell_type": "code",
      "source": [
        "df = pd.DataFrame.from_dict({'Wylie': wylie, 'IAST': iast})\n",
        "df"
      ],
      "metadata": {
        "id": "t29_1baGG-rr",
        "outputId": "a9be9dd8-16f6-4487-ff9c-328843841a19",
        "colab": {
          "base_uri": "https://localhost:8080/",
          "height": 394
        }
      },
      "execution_count": 27,
      "outputs": [
        {
          "output_type": "execute_result",
          "data": {
            "text/plain": [
              "                  Wylie            IAST\n",
              "0          dbang bskur         Abhiṣeka\n",
              "1               og min        Akaniṣṭha\n",
              "2      spyan ras gzigs   Avalokiteśvara\n",
              "3       bcom ldan 'das         Bhagavān\n",
              "4           mkha' 'gro           Ḍākinī\n",
              "5    ye shes sems dpa'      Jñānasattva\n",
              "6   phyag rgya chen po        Mahāmudrā\n",
              "7              o rgyan         Oḍḍiyāna\n",
              "8      kun tu bzang mo    Samantabhadrī\n",
              "9   de bzhin gshegs pa        Tathāgata\n",
              "10       rnal 'byor ma           Yoginī"
            ],
            "text/html": [
              "\n",
              "  <div id=\"df-822f2457-7ba5-496b-aeee-e84245e1f216\">\n",
              "    <div class=\"colab-df-container\">\n",
              "      <div>\n",
              "<style scoped>\n",
              "    .dataframe tbody tr th:only-of-type {\n",
              "        vertical-align: middle;\n",
              "    }\n",
              "\n",
              "    .dataframe tbody tr th {\n",
              "        vertical-align: top;\n",
              "    }\n",
              "\n",
              "    .dataframe thead th {\n",
              "        text-align: right;\n",
              "    }\n",
              "</style>\n",
              "<table border=\"1\" class=\"dataframe\">\n",
              "  <thead>\n",
              "    <tr style=\"text-align: right;\">\n",
              "      <th></th>\n",
              "      <th>Wylie</th>\n",
              "      <th>IAST</th>\n",
              "    </tr>\n",
              "  </thead>\n",
              "  <tbody>\n",
              "    <tr>\n",
              "      <th>0</th>\n",
              "      <td>dbang bskur</td>\n",
              "      <td>Abhiṣeka</td>\n",
              "    </tr>\n",
              "    <tr>\n",
              "      <th>1</th>\n",
              "      <td>og min</td>\n",
              "      <td>Akaniṣṭha</td>\n",
              "    </tr>\n",
              "    <tr>\n",
              "      <th>2</th>\n",
              "      <td>spyan ras gzigs</td>\n",
              "      <td>Avalokiteśvara</td>\n",
              "    </tr>\n",
              "    <tr>\n",
              "      <th>3</th>\n",
              "      <td>bcom ldan 'das</td>\n",
              "      <td>Bhagavān</td>\n",
              "    </tr>\n",
              "    <tr>\n",
              "      <th>4</th>\n",
              "      <td>mkha' 'gro</td>\n",
              "      <td>Ḍākinī</td>\n",
              "    </tr>\n",
              "    <tr>\n",
              "      <th>5</th>\n",
              "      <td>ye shes sems dpa'</td>\n",
              "      <td>Jñānasattva</td>\n",
              "    </tr>\n",
              "    <tr>\n",
              "      <th>6</th>\n",
              "      <td>phyag rgya chen po</td>\n",
              "      <td>Mahāmudrā</td>\n",
              "    </tr>\n",
              "    <tr>\n",
              "      <th>7</th>\n",
              "      <td>o rgyan</td>\n",
              "      <td>Oḍḍiyāna</td>\n",
              "    </tr>\n",
              "    <tr>\n",
              "      <th>8</th>\n",
              "      <td>kun tu bzang mo</td>\n",
              "      <td>Samantabhadrī</td>\n",
              "    </tr>\n",
              "    <tr>\n",
              "      <th>9</th>\n",
              "      <td>de bzhin gshegs pa</td>\n",
              "      <td>Tathāgata</td>\n",
              "    </tr>\n",
              "    <tr>\n",
              "      <th>10</th>\n",
              "      <td>rnal 'byor ma</td>\n",
              "      <td>Yoginī</td>\n",
              "    </tr>\n",
              "  </tbody>\n",
              "</table>\n",
              "</div>\n",
              "      <button class=\"colab-df-convert\" onclick=\"convertToInteractive('df-822f2457-7ba5-496b-aeee-e84245e1f216')\"\n",
              "              title=\"Convert this dataframe to an interactive table.\"\n",
              "              style=\"display:none;\">\n",
              "        \n",
              "  <svg xmlns=\"http://www.w3.org/2000/svg\" height=\"24px\"viewBox=\"0 0 24 24\"\n",
              "       width=\"24px\">\n",
              "    <path d=\"M0 0h24v24H0V0z\" fill=\"none\"/>\n",
              "    <path d=\"M18.56 5.44l.94 2.06.94-2.06 2.06-.94-2.06-.94-.94-2.06-.94 2.06-2.06.94zm-11 1L8.5 8.5l.94-2.06 2.06-.94-2.06-.94L8.5 2.5l-.94 2.06-2.06.94zm10 10l.94 2.06.94-2.06 2.06-.94-2.06-.94-.94-2.06-.94 2.06-2.06.94z\"/><path d=\"M17.41 7.96l-1.37-1.37c-.4-.4-.92-.59-1.43-.59-.52 0-1.04.2-1.43.59L10.3 9.45l-7.72 7.72c-.78.78-.78 2.05 0 2.83L4 21.41c.39.39.9.59 1.41.59.51 0 1.02-.2 1.41-.59l7.78-7.78 2.81-2.81c.8-.78.8-2.07 0-2.86zM5.41 20L4 18.59l7.72-7.72 1.47 1.35L5.41 20z\"/>\n",
              "  </svg>\n",
              "      </button>\n",
              "      \n",
              "  <style>\n",
              "    .colab-df-container {\n",
              "      display:flex;\n",
              "      flex-wrap:wrap;\n",
              "      gap: 12px;\n",
              "    }\n",
              "\n",
              "    .colab-df-convert {\n",
              "      background-color: #E8F0FE;\n",
              "      border: none;\n",
              "      border-radius: 50%;\n",
              "      cursor: pointer;\n",
              "      display: none;\n",
              "      fill: #1967D2;\n",
              "      height: 32px;\n",
              "      padding: 0 0 0 0;\n",
              "      width: 32px;\n",
              "    }\n",
              "\n",
              "    .colab-df-convert:hover {\n",
              "      background-color: #E2EBFA;\n",
              "      box-shadow: 0px 1px 2px rgba(60, 64, 67, 0.3), 0px 1px 3px 1px rgba(60, 64, 67, 0.15);\n",
              "      fill: #174EA6;\n",
              "    }\n",
              "\n",
              "    [theme=dark] .colab-df-convert {\n",
              "      background-color: #3B4455;\n",
              "      fill: #D2E3FC;\n",
              "    }\n",
              "\n",
              "    [theme=dark] .colab-df-convert:hover {\n",
              "      background-color: #434B5C;\n",
              "      box-shadow: 0px 1px 3px 1px rgba(0, 0, 0, 0.15);\n",
              "      filter: drop-shadow(0px 1px 2px rgba(0, 0, 0, 0.3));\n",
              "      fill: #FFFFFF;\n",
              "    }\n",
              "  </style>\n",
              "\n",
              "      <script>\n",
              "        const buttonEl =\n",
              "          document.querySelector('#df-822f2457-7ba5-496b-aeee-e84245e1f216 button.colab-df-convert');\n",
              "        buttonEl.style.display =\n",
              "          google.colab.kernel.accessAllowed ? 'block' : 'none';\n",
              "\n",
              "        async function convertToInteractive(key) {\n",
              "          const element = document.querySelector('#df-822f2457-7ba5-496b-aeee-e84245e1f216');\n",
              "          const dataTable =\n",
              "            await google.colab.kernel.invokeFunction('convertToInteractive',\n",
              "                                                     [key], {});\n",
              "          if (!dataTable) return;\n",
              "\n",
              "          const docLinkHtml = 'Like what you see? Visit the ' +\n",
              "            '<a target=\"_blank\" href=https://colab.research.google.com/notebooks/data_table.ipynb>data table notebook</a>'\n",
              "            + ' to learn more about interactive tables.';\n",
              "          element.innerHTML = '';\n",
              "          dataTable['output_type'] = 'display_data';\n",
              "          await google.colab.output.renderOutput(dataTable, element);\n",
              "          const docLink = document.createElement('div');\n",
              "          docLink.innerHTML = docLinkHtml;\n",
              "          element.appendChild(docLink);\n",
              "        }\n",
              "      </script>\n",
              "    </div>\n",
              "  </div>\n",
              "  "
            ]
          },
          "metadata": {},
          "execution_count": 27
        }
      ]
    },
    {
      "cell_type": "markdown",
      "source": [
        "Now we can use the converters shown above to add Unicode Tibetan and Devanagari for each entry:"
      ],
      "metadata": {
        "id": "JKCTdZbFJnCk"
      }
    },
    {
      "cell_type": "code",
      "source": [
        "df['Tibetan']=[converter.toUnicode(x) for x in df['Wylie']]\n",
        "df['Devanagari']=[transliterate(x, sanscript.IAST, sanscript.DEVANAGARI) for x in df['IAST']]\n",
        "df"
      ],
      "metadata": {
        "id": "diVf-8aKIHa6",
        "outputId": "af471d46-cfff-47f3-a4d7-23a83e2b16fe",
        "colab": {
          "base_uri": "https://localhost:8080/",
          "height": 394
        }
      },
      "execution_count": 29,
      "outputs": [
        {
          "output_type": "execute_result",
          "data": {
            "text/plain": [
              "                  Wylie            IAST           Tibetan    Devanagari\n",
              "0          dbang bskur         Abhiṣeka        དབང་བསྐུར་        अभिषेक\n",
              "1               og min        Akaniṣṭha          ཨོག་མིན་       अकनिष्ठ\n",
              "2      spyan ras gzigs   Avalokiteśvara    སྤྱན་རས་གཟིགས་  अवलोकितेश्वर\n",
              "3       bcom ldan 'das         Bhagavān     བཅོམ་ལྡན་འདས་        भगवान्\n",
              "4           mkha' 'gro           Ḍākinī         མཁའ་འགྲོ་        Ḍआकिनी\n",
              "5    ye shes sems dpa'      Jñānasattva  ཡེ་ཤེས་སེམས་དཔའ་   ज्ञानसत्त्व\n",
              "6   phyag rgya chen po        Mahāmudrā   ཕྱག་རྒྱ་ཆེན་པོ་     महामुद्रा\n",
              "7              o rgyan         Oḍḍiyāna          ཨོ་རྒྱན་      ओड्डियान\n",
              "8      kun tu bzang mo    Samantabhadrī    ཀུན་ཏུ་བཟང་མོ་    समन्तभद्री\n",
              "9   de bzhin gshegs pa        Tathāgata  དེ་བཞིན་གཤེགས་པ་         तथागत\n",
              "10       rnal 'byor ma           Yoginī      རྣལ་འབྱོར་མ་        योगिनी"
            ],
            "text/html": [
              "\n",
              "  <div id=\"df-1fa8dcea-979e-462a-a95a-b58f9d7c8f60\">\n",
              "    <div class=\"colab-df-container\">\n",
              "      <div>\n",
              "<style scoped>\n",
              "    .dataframe tbody tr th:only-of-type {\n",
              "        vertical-align: middle;\n",
              "    }\n",
              "\n",
              "    .dataframe tbody tr th {\n",
              "        vertical-align: top;\n",
              "    }\n",
              "\n",
              "    .dataframe thead th {\n",
              "        text-align: right;\n",
              "    }\n",
              "</style>\n",
              "<table border=\"1\" class=\"dataframe\">\n",
              "  <thead>\n",
              "    <tr style=\"text-align: right;\">\n",
              "      <th></th>\n",
              "      <th>Wylie</th>\n",
              "      <th>IAST</th>\n",
              "      <th>Tibetan</th>\n",
              "      <th>Devanagari</th>\n",
              "    </tr>\n",
              "  </thead>\n",
              "  <tbody>\n",
              "    <tr>\n",
              "      <th>0</th>\n",
              "      <td>dbang bskur</td>\n",
              "      <td>Abhiṣeka</td>\n",
              "      <td>དབང་བསྐུར་</td>\n",
              "      <td>अभिषेक</td>\n",
              "    </tr>\n",
              "    <tr>\n",
              "      <th>1</th>\n",
              "      <td>og min</td>\n",
              "      <td>Akaniṣṭha</td>\n",
              "      <td>ཨོག་མིན་</td>\n",
              "      <td>अकनिष्ठ</td>\n",
              "    </tr>\n",
              "    <tr>\n",
              "      <th>2</th>\n",
              "      <td>spyan ras gzigs</td>\n",
              "      <td>Avalokiteśvara</td>\n",
              "      <td>སྤྱན་རས་གཟིགས་</td>\n",
              "      <td>अवलोकितेश्वर</td>\n",
              "    </tr>\n",
              "    <tr>\n",
              "      <th>3</th>\n",
              "      <td>bcom ldan 'das</td>\n",
              "      <td>Bhagavān</td>\n",
              "      <td>བཅོམ་ལྡན་འདས་</td>\n",
              "      <td>भगवान्</td>\n",
              "    </tr>\n",
              "    <tr>\n",
              "      <th>4</th>\n",
              "      <td>mkha' 'gro</td>\n",
              "      <td>Ḍākinī</td>\n",
              "      <td>མཁའ་འགྲོ་</td>\n",
              "      <td>Ḍआकिनी</td>\n",
              "    </tr>\n",
              "    <tr>\n",
              "      <th>5</th>\n",
              "      <td>ye shes sems dpa'</td>\n",
              "      <td>Jñānasattva</td>\n",
              "      <td>ཡེ་ཤེས་སེམས་དཔའ་</td>\n",
              "      <td>ज्ञानसत्त्व</td>\n",
              "    </tr>\n",
              "    <tr>\n",
              "      <th>6</th>\n",
              "      <td>phyag rgya chen po</td>\n",
              "      <td>Mahāmudrā</td>\n",
              "      <td>ཕྱག་རྒྱ་ཆེན་པོ་</td>\n",
              "      <td>महामुद्रा</td>\n",
              "    </tr>\n",
              "    <tr>\n",
              "      <th>7</th>\n",
              "      <td>o rgyan</td>\n",
              "      <td>Oḍḍiyāna</td>\n",
              "      <td>ཨོ་རྒྱན་</td>\n",
              "      <td>ओड्डियान</td>\n",
              "    </tr>\n",
              "    <tr>\n",
              "      <th>8</th>\n",
              "      <td>kun tu bzang mo</td>\n",
              "      <td>Samantabhadrī</td>\n",
              "      <td>ཀུན་ཏུ་བཟང་མོ་</td>\n",
              "      <td>समन्तभद्री</td>\n",
              "    </tr>\n",
              "    <tr>\n",
              "      <th>9</th>\n",
              "      <td>de bzhin gshegs pa</td>\n",
              "      <td>Tathāgata</td>\n",
              "      <td>དེ་བཞིན་གཤེགས་པ་</td>\n",
              "      <td>तथागत</td>\n",
              "    </tr>\n",
              "    <tr>\n",
              "      <th>10</th>\n",
              "      <td>rnal 'byor ma</td>\n",
              "      <td>Yoginī</td>\n",
              "      <td>རྣལ་འབྱོར་མ་</td>\n",
              "      <td>योगिनी</td>\n",
              "    </tr>\n",
              "  </tbody>\n",
              "</table>\n",
              "</div>\n",
              "      <button class=\"colab-df-convert\" onclick=\"convertToInteractive('df-1fa8dcea-979e-462a-a95a-b58f9d7c8f60')\"\n",
              "              title=\"Convert this dataframe to an interactive table.\"\n",
              "              style=\"display:none;\">\n",
              "        \n",
              "  <svg xmlns=\"http://www.w3.org/2000/svg\" height=\"24px\"viewBox=\"0 0 24 24\"\n",
              "       width=\"24px\">\n",
              "    <path d=\"M0 0h24v24H0V0z\" fill=\"none\"/>\n",
              "    <path d=\"M18.56 5.44l.94 2.06.94-2.06 2.06-.94-2.06-.94-.94-2.06-.94 2.06-2.06.94zm-11 1L8.5 8.5l.94-2.06 2.06-.94-2.06-.94L8.5 2.5l-.94 2.06-2.06.94zm10 10l.94 2.06.94-2.06 2.06-.94-2.06-.94-.94-2.06-.94 2.06-2.06.94z\"/><path d=\"M17.41 7.96l-1.37-1.37c-.4-.4-.92-.59-1.43-.59-.52 0-1.04.2-1.43.59L10.3 9.45l-7.72 7.72c-.78.78-.78 2.05 0 2.83L4 21.41c.39.39.9.59 1.41.59.51 0 1.02-.2 1.41-.59l7.78-7.78 2.81-2.81c.8-.78.8-2.07 0-2.86zM5.41 20L4 18.59l7.72-7.72 1.47 1.35L5.41 20z\"/>\n",
              "  </svg>\n",
              "      </button>\n",
              "      \n",
              "  <style>\n",
              "    .colab-df-container {\n",
              "      display:flex;\n",
              "      flex-wrap:wrap;\n",
              "      gap: 12px;\n",
              "    }\n",
              "\n",
              "    .colab-df-convert {\n",
              "      background-color: #E8F0FE;\n",
              "      border: none;\n",
              "      border-radius: 50%;\n",
              "      cursor: pointer;\n",
              "      display: none;\n",
              "      fill: #1967D2;\n",
              "      height: 32px;\n",
              "      padding: 0 0 0 0;\n",
              "      width: 32px;\n",
              "    }\n",
              "\n",
              "    .colab-df-convert:hover {\n",
              "      background-color: #E2EBFA;\n",
              "      box-shadow: 0px 1px 2px rgba(60, 64, 67, 0.3), 0px 1px 3px 1px rgba(60, 64, 67, 0.15);\n",
              "      fill: #174EA6;\n",
              "    }\n",
              "\n",
              "    [theme=dark] .colab-df-convert {\n",
              "      background-color: #3B4455;\n",
              "      fill: #D2E3FC;\n",
              "    }\n",
              "\n",
              "    [theme=dark] .colab-df-convert:hover {\n",
              "      background-color: #434B5C;\n",
              "      box-shadow: 0px 1px 3px 1px rgba(0, 0, 0, 0.15);\n",
              "      filter: drop-shadow(0px 1px 2px rgba(0, 0, 0, 0.3));\n",
              "      fill: #FFFFFF;\n",
              "    }\n",
              "  </style>\n",
              "\n",
              "      <script>\n",
              "        const buttonEl =\n",
              "          document.querySelector('#df-1fa8dcea-979e-462a-a95a-b58f9d7c8f60 button.colab-df-convert');\n",
              "        buttonEl.style.display =\n",
              "          google.colab.kernel.accessAllowed ? 'block' : 'none';\n",
              "\n",
              "        async function convertToInteractive(key) {\n",
              "          const element = document.querySelector('#df-1fa8dcea-979e-462a-a95a-b58f9d7c8f60');\n",
              "          const dataTable =\n",
              "            await google.colab.kernel.invokeFunction('convertToInteractive',\n",
              "                                                     [key], {});\n",
              "          if (!dataTable) return;\n",
              "\n",
              "          const docLinkHtml = 'Like what you see? Visit the ' +\n",
              "            '<a target=\"_blank\" href=https://colab.research.google.com/notebooks/data_table.ipynb>data table notebook</a>'\n",
              "            + ' to learn more about interactive tables.';\n",
              "          element.innerHTML = '';\n",
              "          dataTable['output_type'] = 'display_data';\n",
              "          await google.colab.output.renderOutput(dataTable, element);\n",
              "          const docLink = document.createElement('div');\n",
              "          docLink.innerHTML = docLinkHtml;\n",
              "          element.appendChild(docLink);\n",
              "        }\n",
              "      </script>\n",
              "    </div>\n",
              "  </div>\n",
              "  "
            ]
          },
          "metadata": {},
          "execution_count": 29
        }
      ]
    },
    {
      "cell_type": "markdown",
      "source": [
        "Let's use Wikipedia to explain those terms:"
      ],
      "metadata": {
        "id": "Wahe7WIyKadt"
      }
    },
    {
      "cell_type": "code",
      "source": [
        "from urllib.request import urlopen\n",
        "from urllib.parse import quote\n",
        "import json"
      ],
      "metadata": {
        "id": "LSZnw8sGKMGe"
      },
      "execution_count": 35,
      "outputs": []
    },
    {
      "cell_type": "code",
      "source": [
        "def wikipedia_summary(query, verbose=False):\n",
        "    api=\"https://en.wikipedia.org/w/api.php\"\n",
        "    esc_query=quote(query)\n",
        "    query_url=f\"{api}?format=json&action=query&prop=extracts&exintro&explaintext&redirects=1&titles={esc_query}\"\n",
        "    result=[]\n",
        "    with urlopen(query_url) as f:\n",
        "        resp = json.load(f)\n",
        "        if verbose is True:\n",
        "            print(resp)\n",
        "        for entry_name in resp[\"query\"][\"pages\"]:\n",
        "            entry=resp[\"query\"][\"pages\"][entry_name]\n",
        "            if \"title\" in entry.keys() and 'extract' in entry.keys():\n",
        "                result.append((entry['title'],entry['extract']))\n",
        "    if len(result)==1:\n",
        "        ans=result[0][1]\n",
        "        if 'refer' in ans and 'to:' in ans:\n",
        "            return \"\"\n",
        "        else:\n",
        "            return ans\n",
        "    else:\n",
        "        return \"\""
      ],
      "metadata": {
        "id": "KbvmYXRpI2-W"
      },
      "execution_count": 36,
      "outputs": []
    },
    {
      "cell_type": "code",
      "source": [
        "df['Definition']=[wikipedia_summary(x) for x in df['IAST']]\n",
        "df"
      ],
      "metadata": {
        "id": "Zx8flW9bJ2ow",
        "outputId": "850c3a41-b3b3-4700-93e6-b57157266453",
        "colab": {
          "base_uri": "https://localhost:8080/",
          "height": 394
        }
      },
      "execution_count": 39,
      "outputs": [
        {
          "output_type": "execute_result",
          "data": {
            "text/plain": [
              "                  Wylie            IAST           Tibetan    Devanagari  \\\n",
              "0          dbang bskur         Abhiṣeka        དབང་བསྐུར་        अभिषेक   \n",
              "1               og min        Akaniṣṭha          ཨོག་མིན་       अकनिष्ठ   \n",
              "2      spyan ras gzigs   Avalokiteśvara    སྤྱན་རས་གཟིགས་  अवलोकितेश्वर   \n",
              "3       bcom ldan 'das         Bhagavān     བཅོམ་ལྡན་འདས་        भगवान्   \n",
              "4           mkha' 'gro           Ḍākinī         མཁའ་འགྲོ་        Ḍआकिनी   \n",
              "5    ye shes sems dpa'      Jñānasattva  ཡེ་ཤེས་སེམས་དཔའ་   ज्ञानसत्त्व   \n",
              "6   phyag rgya chen po        Mahāmudrā   ཕྱག་རྒྱ་ཆེན་པོ་     महामुद्रा   \n",
              "7              o rgyan         Oḍḍiyāna          ཨོ་རྒྱན་      ओड्डियान   \n",
              "8      kun tu bzang mo    Samantabhadrī    ཀུན་ཏུ་བཟང་མོ་    समन्तभद्री   \n",
              "9   de bzhin gshegs pa        Tathāgata  དེ་བཞིན་གཤེགས་པ་         तथागत   \n",
              "10       rnal 'byor ma           Yoginī      རྣལ་འབྱོར་མ་        योगिनी   \n",
              "\n",
              "                                           Definition  \n",
              "0   Abhisheka (Sanskrit: अभिषेक, romanized: Abhiṣe...  \n",
              "1   In classical Buddhist Cosmology, Akaniṣṭha (Pa...  \n",
              "2   In Buddhism, Avalokiteśvara ( Sanskrit: अवलोकि...  \n",
              "3   Bhagavan (Sanskrit: भगवान्, romanized: Bhagavā...  \n",
              "4   A ḍākinī (Sanskrit: डाकिनी; Tibetan: མཁའ་འགྲོ་...  \n",
              "5                                                      \n",
              "6   Mahāmudrā (Sanskrit: महामुद्रा, Tibetan: ཕྱག་ཆ...  \n",
              "7   Oḍḍiyāna (also: Uḍḍiyāna, Uḍḍāyāna or Udyāna, ...  \n",
              "8   Samantabhadri (Sanskrit; Devanagari: समन्तभद्र...  \n",
              "9   Tathāgata (Pali: [tɐˈtʰaːɡɐtɐ]) is a Pali word...  \n",
              "10                                                     "
            ],
            "text/html": [
              "\n",
              "  <div id=\"df-e4e9e4d0-4efa-4640-8832-f8ae782eb35d\">\n",
              "    <div class=\"colab-df-container\">\n",
              "      <div>\n",
              "<style scoped>\n",
              "    .dataframe tbody tr th:only-of-type {\n",
              "        vertical-align: middle;\n",
              "    }\n",
              "\n",
              "    .dataframe tbody tr th {\n",
              "        vertical-align: top;\n",
              "    }\n",
              "\n",
              "    .dataframe thead th {\n",
              "        text-align: right;\n",
              "    }\n",
              "</style>\n",
              "<table border=\"1\" class=\"dataframe\">\n",
              "  <thead>\n",
              "    <tr style=\"text-align: right;\">\n",
              "      <th></th>\n",
              "      <th>Wylie</th>\n",
              "      <th>IAST</th>\n",
              "      <th>Tibetan</th>\n",
              "      <th>Devanagari</th>\n",
              "      <th>Definition</th>\n",
              "    </tr>\n",
              "  </thead>\n",
              "  <tbody>\n",
              "    <tr>\n",
              "      <th>0</th>\n",
              "      <td>dbang bskur</td>\n",
              "      <td>Abhiṣeka</td>\n",
              "      <td>དབང་བསྐུར་</td>\n",
              "      <td>अभिषेक</td>\n",
              "      <td>Abhisheka (Sanskrit: अभिषेक, romanized: Abhiṣe...</td>\n",
              "    </tr>\n",
              "    <tr>\n",
              "      <th>1</th>\n",
              "      <td>og min</td>\n",
              "      <td>Akaniṣṭha</td>\n",
              "      <td>ཨོག་མིན་</td>\n",
              "      <td>अकनिष्ठ</td>\n",
              "      <td>In classical Buddhist Cosmology, Akaniṣṭha (Pa...</td>\n",
              "    </tr>\n",
              "    <tr>\n",
              "      <th>2</th>\n",
              "      <td>spyan ras gzigs</td>\n",
              "      <td>Avalokiteśvara</td>\n",
              "      <td>སྤྱན་རས་གཟིགས་</td>\n",
              "      <td>अवलोकितेश्वर</td>\n",
              "      <td>In Buddhism, Avalokiteśvara ( Sanskrit: अवलोकि...</td>\n",
              "    </tr>\n",
              "    <tr>\n",
              "      <th>3</th>\n",
              "      <td>bcom ldan 'das</td>\n",
              "      <td>Bhagavān</td>\n",
              "      <td>བཅོམ་ལྡན་འདས་</td>\n",
              "      <td>भगवान्</td>\n",
              "      <td>Bhagavan (Sanskrit: भगवान्, romanized: Bhagavā...</td>\n",
              "    </tr>\n",
              "    <tr>\n",
              "      <th>4</th>\n",
              "      <td>mkha' 'gro</td>\n",
              "      <td>Ḍākinī</td>\n",
              "      <td>མཁའ་འགྲོ་</td>\n",
              "      <td>Ḍआकिनी</td>\n",
              "      <td>A ḍākinī (Sanskrit: डाकिनी; Tibetan: མཁའ་འགྲོ་...</td>\n",
              "    </tr>\n",
              "    <tr>\n",
              "      <th>5</th>\n",
              "      <td>ye shes sems dpa'</td>\n",
              "      <td>Jñānasattva</td>\n",
              "      <td>ཡེ་ཤེས་སེམས་དཔའ་</td>\n",
              "      <td>ज्ञानसत्त्व</td>\n",
              "      <td></td>\n",
              "    </tr>\n",
              "    <tr>\n",
              "      <th>6</th>\n",
              "      <td>phyag rgya chen po</td>\n",
              "      <td>Mahāmudrā</td>\n",
              "      <td>ཕྱག་རྒྱ་ཆེན་པོ་</td>\n",
              "      <td>महामुद्रा</td>\n",
              "      <td>Mahāmudrā (Sanskrit: महामुद्रा, Tibetan: ཕྱག་ཆ...</td>\n",
              "    </tr>\n",
              "    <tr>\n",
              "      <th>7</th>\n",
              "      <td>o rgyan</td>\n",
              "      <td>Oḍḍiyāna</td>\n",
              "      <td>ཨོ་རྒྱན་</td>\n",
              "      <td>ओड्डियान</td>\n",
              "      <td>Oḍḍiyāna (also: Uḍḍiyāna, Uḍḍāyāna or Udyāna, ...</td>\n",
              "    </tr>\n",
              "    <tr>\n",
              "      <th>8</th>\n",
              "      <td>kun tu bzang mo</td>\n",
              "      <td>Samantabhadrī</td>\n",
              "      <td>ཀུན་ཏུ་བཟང་མོ་</td>\n",
              "      <td>समन्तभद्री</td>\n",
              "      <td>Samantabhadri (Sanskrit; Devanagari: समन्तभद्र...</td>\n",
              "    </tr>\n",
              "    <tr>\n",
              "      <th>9</th>\n",
              "      <td>de bzhin gshegs pa</td>\n",
              "      <td>Tathāgata</td>\n",
              "      <td>དེ་བཞིན་གཤེགས་པ་</td>\n",
              "      <td>तथागत</td>\n",
              "      <td>Tathāgata (Pali: [tɐˈtʰaːɡɐtɐ]) is a Pali word...</td>\n",
              "    </tr>\n",
              "    <tr>\n",
              "      <th>10</th>\n",
              "      <td>rnal 'byor ma</td>\n",
              "      <td>Yoginī</td>\n",
              "      <td>རྣལ་འབྱོར་མ་</td>\n",
              "      <td>योगिनी</td>\n",
              "      <td></td>\n",
              "    </tr>\n",
              "  </tbody>\n",
              "</table>\n",
              "</div>\n",
              "      <button class=\"colab-df-convert\" onclick=\"convertToInteractive('df-e4e9e4d0-4efa-4640-8832-f8ae782eb35d')\"\n",
              "              title=\"Convert this dataframe to an interactive table.\"\n",
              "              style=\"display:none;\">\n",
              "        \n",
              "  <svg xmlns=\"http://www.w3.org/2000/svg\" height=\"24px\"viewBox=\"0 0 24 24\"\n",
              "       width=\"24px\">\n",
              "    <path d=\"M0 0h24v24H0V0z\" fill=\"none\"/>\n",
              "    <path d=\"M18.56 5.44l.94 2.06.94-2.06 2.06-.94-2.06-.94-.94-2.06-.94 2.06-2.06.94zm-11 1L8.5 8.5l.94-2.06 2.06-.94-2.06-.94L8.5 2.5l-.94 2.06-2.06.94zm10 10l.94 2.06.94-2.06 2.06-.94-2.06-.94-.94-2.06-.94 2.06-2.06.94z\"/><path d=\"M17.41 7.96l-1.37-1.37c-.4-.4-.92-.59-1.43-.59-.52 0-1.04.2-1.43.59L10.3 9.45l-7.72 7.72c-.78.78-.78 2.05 0 2.83L4 21.41c.39.39.9.59 1.41.59.51 0 1.02-.2 1.41-.59l7.78-7.78 2.81-2.81c.8-.78.8-2.07 0-2.86zM5.41 20L4 18.59l7.72-7.72 1.47 1.35L5.41 20z\"/>\n",
              "  </svg>\n",
              "      </button>\n",
              "      \n",
              "  <style>\n",
              "    .colab-df-container {\n",
              "      display:flex;\n",
              "      flex-wrap:wrap;\n",
              "      gap: 12px;\n",
              "    }\n",
              "\n",
              "    .colab-df-convert {\n",
              "      background-color: #E8F0FE;\n",
              "      border: none;\n",
              "      border-radius: 50%;\n",
              "      cursor: pointer;\n",
              "      display: none;\n",
              "      fill: #1967D2;\n",
              "      height: 32px;\n",
              "      padding: 0 0 0 0;\n",
              "      width: 32px;\n",
              "    }\n",
              "\n",
              "    .colab-df-convert:hover {\n",
              "      background-color: #E2EBFA;\n",
              "      box-shadow: 0px 1px 2px rgba(60, 64, 67, 0.3), 0px 1px 3px 1px rgba(60, 64, 67, 0.15);\n",
              "      fill: #174EA6;\n",
              "    }\n",
              "\n",
              "    [theme=dark] .colab-df-convert {\n",
              "      background-color: #3B4455;\n",
              "      fill: #D2E3FC;\n",
              "    }\n",
              "\n",
              "    [theme=dark] .colab-df-convert:hover {\n",
              "      background-color: #434B5C;\n",
              "      box-shadow: 0px 1px 3px 1px rgba(0, 0, 0, 0.15);\n",
              "      filter: drop-shadow(0px 1px 2px rgba(0, 0, 0, 0.3));\n",
              "      fill: #FFFFFF;\n",
              "    }\n",
              "  </style>\n",
              "\n",
              "      <script>\n",
              "        const buttonEl =\n",
              "          document.querySelector('#df-e4e9e4d0-4efa-4640-8832-f8ae782eb35d button.colab-df-convert');\n",
              "        buttonEl.style.display =\n",
              "          google.colab.kernel.accessAllowed ? 'block' : 'none';\n",
              "\n",
              "        async function convertToInteractive(key) {\n",
              "          const element = document.querySelector('#df-e4e9e4d0-4efa-4640-8832-f8ae782eb35d');\n",
              "          const dataTable =\n",
              "            await google.colab.kernel.invokeFunction('convertToInteractive',\n",
              "                                                     [key], {});\n",
              "          if (!dataTable) return;\n",
              "\n",
              "          const docLinkHtml = 'Like what you see? Visit the ' +\n",
              "            '<a target=\"_blank\" href=https://colab.research.google.com/notebooks/data_table.ipynb>data table notebook</a>'\n",
              "            + ' to learn more about interactive tables.';\n",
              "          element.innerHTML = '';\n",
              "          dataTable['output_type'] = 'display_data';\n",
              "          await google.colab.output.renderOutput(dataTable, element);\n",
              "          const docLink = document.createElement('div');\n",
              "          docLink.innerHTML = docLinkHtml;\n",
              "          element.appendChild(docLink);\n",
              "        }\n",
              "      </script>\n",
              "    </div>\n",
              "  </div>\n",
              "  "
            ]
          },
          "metadata": {},
          "execution_count": 39
        }
      ]
    },
    {
      "cell_type": "code",
      "source": [
        "pd.set_option('display.max_colwidth', None)\n",
        "print(df.loc[1,'Definition'])"
      ],
      "metadata": {
        "id": "YtDb_FQPKR0c",
        "outputId": "d8644fb1-4811-478b-b04f-5b902aba530a",
        "colab": {
          "base_uri": "https://localhost:8080/"
        }
      },
      "execution_count": 52,
      "outputs": [
        {
          "output_type": "stream",
          "name": "stdout",
          "text": [
            "In classical Buddhist Cosmology, Akaniṣṭha (Pali: Akaniṭṭha, meaning \"Nothing Higher\", \"Unsurpassed\") is the highest of the Pure Abodes, and thus the highest of all the form realms. It is the realm where devas like Maheśvara live.\n",
            "In Mahayana Buddhism, Akaniṣṭha is also a name for the Pure Land (Buddhafield) of the Buddha Vairocana.\n",
            "\n",
            "Tibetan Buddhism, Akaniṣṭha (Tib. 'og min) often describes three Akaniṣṭhas:\n",
            "The Ultimate Akaniṣṭha, the formless state of dharmakaya, the dharmadhatu.\n",
            "The Densely Arrayed Akaniṣṭha (Tib. 'Og min rgyan stug po bkod pa; Skt. Ghanavyūhakaniṣṭha), or the \"Symbolic Akaniṣṭha\" which is the realm of  sambhogakaya. \"Ghanavyūha Akaniṣṭha\", refers to the pure Saṃbhogakāya Buddha field out of which emanate all Nirmāṇakāya Buddhas and Buddhafields such as Sukhāvati. It is the supreme Buddhafield in which all Buddhas attain Buddhahood. The Saṃbhogakāya Buddha Vajradhara is said to have taught the Vajrayana in the realm of Akaniṣṭha Ghanavyūha.\n",
            "The Mundane Akaniṣṭha, which is the highest pure level of the form realm, which is the sphere of nirmanakayas.\n"
          ]
        }
      ]
    },
    {
      "cell_type": "code",
      "source": [
        ""
      ],
      "metadata": {
        "id": "zIvKy2vBKtqf"
      },
      "execution_count": null,
      "outputs": []
    }
  ]
}