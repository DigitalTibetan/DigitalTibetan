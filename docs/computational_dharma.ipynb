{
  "nbformat": 4,
  "nbformat_minor": 0,
  "metadata": {
    "colab": {
      "name": "computational_dharma.ipynb",
      "provenance": [],
      "authorship_tag": "ABX9TyNgITZJvfcnm4cADwTFrstE",
      "include_colab_link": true
    },
    "kernelspec": {
      "name": "python3",
      "display_name": "Python 3"
    },
    "language_info": {
      "name": "python"
    }
  },
  "cells": [
    {
      "cell_type": "markdown",
      "metadata": {
        "id": "view-in-github",
        "colab_type": "text"
      },
      "source": [
        "<a href=\"https://colab.research.google.com/github/DigitalTibetan/DigitalTibetan/blob/main/docs/computational_dharma.ipynb\" target=\"_parent\"><img src=\"https://colab.research.google.com/assets/colab-badge.svg\" alt=\"Open In Colab\"/></a>"
      ]
    },
    {
      "cell_type": "markdown",
      "source": [
        "# Computational dharma, really?\n",
        "\n",
        "some first tests...\n",
        "\n",
        "## Conversion from Wylie to Unicode Tibetan"
      ],
      "metadata": {
        "id": "Z_7pd7PGvczz"
      }
    },
    {
      "cell_type": "code",
      "source": [
        "!pip install pyewts"
      ],
      "metadata": {
        "colab": {
          "base_uri": "https://localhost:8080/"
        },
        "id": "hS5u5eE1vfBG",
        "outputId": "10dca4cf-06ca-4eb8-82b5-e686df427b37"
      },
      "execution_count": 3,
      "outputs": [
        {
          "output_type": "stream",
          "name": "stdout",
          "text": [
            "Collecting pyewts\n",
            "  Downloading pyewts-0.1.3.tar.gz (14 kB)\n",
            "Building wheels for collected packages: pyewts\n",
            "  Building wheel for pyewts (setup.py) ... \u001b[?25l\u001b[?25hdone\n",
            "  Created wheel for pyewts: filename=pyewts-0.1.3-py3-none-any.whl size=13542 sha256=74f7ebfa2caa6e7000066f976f2a14cc2dd040c421060439f0cfcb3c5396afe1\n",
            "  Stored in directory: /root/.cache/pip/wheels/5c/01/8a/f2ed100460b6feae43209fbdade79c591e03170570963ba3b2\n",
            "Successfully built pyewts\n",
            "Installing collected packages: pyewts\n",
            "Successfully installed pyewts-0.1.3\n"
          ]
        }
      ]
    },
    {
      "cell_type": "code",
      "source": [
        "import pyewts"
      ],
      "metadata": {
        "id": "KbPSnNUJvjdg"
      },
      "execution_count": 4,
      "outputs": []
    },
    {
      "cell_type": "code",
      "source": [
        "converter=pyewts.pyewts()"
      ],
      "metadata": {
        "id": "brhyg1kyv2rS"
      },
      "execution_count": 5,
      "outputs": []
    },
    {
      "cell_type": "code",
      "source": [
        "print(converter.toUnicode(\"oM AH hUM:\"))"
      ],
      "metadata": {
        "colab": {
          "base_uri": "https://localhost:8080/"
        },
        "id": "KmUUCuhYwAdY",
        "outputId": "fdc1668c-747c-4bc7-86f7-1cccc999534a"
      },
      "execution_count": 7,
      "outputs": [
        {
          "output_type": "stream",
          "name": "stdout",
          "text": [
            "ཨོཾ་ཨཱཿ་ཧཱུཾ༔\n"
          ]
        }
      ]
    },
    {
      "cell_type": "code",
      "source": [
        ""
      ],
      "metadata": {
        "id": "rc-iW12fwLnc"
      },
      "execution_count": null,
      "outputs": []
    }
  ]
}