{
  "nbformat": 4,
  "nbformat_minor": 0,
  "metadata": {
    "colab": {
      "name": "computational_dharma.ipynb",
      "provenance": [],
      "collapsed_sections": [],
      "authorship_tag": "ABX9TyMEodEd7P+ESYnLCPU6GHDd",
      "include_colab_link": true
    },
    "kernelspec": {
      "name": "python3",
      "display_name": "Python 3"
    },
    "language_info": {
      "name": "python"
    }
  },
  "cells": [
    {
      "cell_type": "markdown",
      "metadata": {
        "id": "view-in-github",
        "colab_type": "text"
      },
      "source": [
        "<a href=\"https://colab.research.google.com/github/DigitalTibetan/DigitalTibetan/blob/main/docs/computational_dharma.ipynb\" target=\"_parent\"><img src=\"https://colab.research.google.com/assets/colab-badge.svg\" alt=\"Open In Colab\"/></a>"
      ]
    },
    {
      "cell_type": "markdown",
      "source": [
        "# Computational dharma, really?\n",
        "\n",
        "## A digital toolset to work with multiple language\n",
        "\n",
        "This article just wants to give a quick overview of what's possible with today's natural language processing tools. All examples will focus on the Python programming language as an additional tool for working with Tibetan texts.\n",
        "\n",
        "There are two ways to read this notebook:\n",
        "\n",
        "- either treat it as a normal static website, and get an overview what current tools can do,\n",
        "- click the button above `Open in Colab`. This will open this notebook in a Google colab instance (free), and will allow you to modify and execute the examples without installing any software locally. To execute a command in the notebook, press `<Shift><Enter>` and the current cell will be executed.\n",
        "\n",
        "This will be just some first glimpse, more details and explanations will be added in later articles.\n",
        "\n",
        "Let's start with some conversions between Wylie and Unicode Tibetan, using Esukhia's [pyetws](https://github.com/OpenPecha-dev/pyewts) that is a port of earlier work by [Roger Espel](https://github.com/rogerespel/ewts-js).\n",
        "\n",
        "## Conversion between Wylie and Unicode Tibetan"
      ],
      "metadata": {
        "id": "Z_7pd7PGvczz"
      }
    },
    {
      "cell_type": "code",
      "source": [
        "%%capture\n",
        "!pip install pyewts"
      ],
      "metadata": {
        "id": "hS5u5eE1vfBG"
      },
      "execution_count": 15,
      "outputs": []
    },
    {
      "cell_type": "code",
      "source": [
        "import pyewts"
      ],
      "metadata": {
        "id": "KbPSnNUJvjdg"
      },
      "execution_count": 4,
      "outputs": []
    },
    {
      "cell_type": "code",
      "source": [
        "converter=pyewts.pyewts()\n",
        "print(converter.toUnicode(\"oM AHhUM:\"))\n",
        "print(converter.toWylie(\"སེམས་ཉིད་\"))"
      ],
      "metadata": {
        "colab": {
          "base_uri": "https://localhost:8080/"
        },
        "id": "brhyg1kyv2rS",
        "outputId": "0f13cd51-5c6f-4fef-b3a4-24f4f6f799f4"
      },
      "execution_count": 11,
      "outputs": [
        {
          "output_type": "stream",
          "name": "stdout",
          "text": [
            "ཨོཾ་ཨཱཿཧཱུཾ༔\n",
            "sems nyid \n"
          ]
        }
      ]
    },
    {
      "cell_type": "markdown",
      "source": [
        "## Let's look at Sanskrit transliteration systems"
      ],
      "metadata": {
        "id": "FKtys2HA639d"
      }
    },
    {
      "cell_type": "code",
      "source": [
        "%%capture\n",
        "!pip install indic_transliteration"
      ],
      "metadata": {
        "id": "S6A0twKf6vC4"
      },
      "execution_count": null,
      "outputs": []
    },
    {
      "cell_type": "code",
      "source": [
        "from indic_transliteration import sanscript\n",
        "from indic_transliteration.sanscript import SchemeMap, SCHEMES, transliterate"
      ],
      "metadata": {
        "id": "0sTxDJyn8dvM"
      },
      "execution_count": 13,
      "outputs": []
    },
    {
      "cell_type": "code",
      "source": [
        "transliterate(\"Kālacakra\", sanscript.IAST, sanscript.DEVANAGARI)"
      ],
      "metadata": {
        "colab": {
          "base_uri": "https://localhost:8080/",
          "height": 36
        },
        "id": "Q2UhLZBG8gP2",
        "outputId": "7695ef68-f43c-40d2-9433-105a9696b2a7"
      },
      "execution_count": 17,
      "outputs": [
        {
          "output_type": "execute_result",
          "data": {
            "text/plain": [
              "'कालचक्र'"
            ],
            "application/vnd.google.colaboratory.intrinsic+json": {
              "type": "string"
            }
          },
          "metadata": {},
          "execution_count": 17
        }
      ]
    },
    {
      "cell_type": "code",
      "source": [
        ""
      ],
      "metadata": {
        "id": "bhCLsYop806u"
      },
      "execution_count": null,
      "outputs": []
    }
  ]
}